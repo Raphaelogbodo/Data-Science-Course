{
 "cells": [
  {
   "cell_type": "markdown",
   "id": "8adc8d0b-c5de-4bf4-80c6-ee3b1e69dc24",
   "metadata": {},
   "source": [
    "# Data Science Tools and Ecosystem"
   ]
  },
  {
   "cell_type": "markdown",
   "id": "3f79477b-3893-4109-b73a-4756d996bee1",
   "metadata": {},
   "source": [
    "In this notebook, Data Science Tools and Ecosystem are summarized."
   ]
  },
  {
   "cell_type": "markdown",
   "id": "9230d745-5349-4c32-b410-19e33d1af290",
   "metadata": {},
   "source": [
    "# Objectives:\n",
    "* List popular languages for Data Science\n",
    "* List commonly used libraries used by Data Scientist\n",
    "* Data science tools\n",
    "* Evaluating arithmetic experession"
   ]
  },
  {
   "cell_type": "markdown",
   "id": "8f4b5411-1fd1-4e54-a5e3-a3298a952707",
   "metadata": {},
   "source": [
    "Some of the popular languages that Data Scientists use are:\n",
    "1. Python\n",
    "2. R\n",
    "3. SQL\n",
    "4. C++\n",
    "5. Scala"
   ]
  },
  {
   "cell_type": "markdown",
   "id": "845556eb-e165-4c81-bb9a-db9911e28732",
   "metadata": {},
   "source": [
    "Some of the commonly used libraries used by Data Scientists include:\n",
    "1. Pandas\n",
    "2. Numpy\n",
    "3. Scikit-learn\n",
    "4. Scipy\n",
    "5. Matplotlib"
   ]
  },
  {
   "cell_type": "markdown",
   "id": "827f8d48-f887-4a5b-a88c-714aae7d4caf",
   "metadata": {},
   "source": [
    "| Data Science Tools |\n",
    "|--------------------|\n",
    "| Jupyter Notebook   |\n",
    "| RStudio            |\n",
    "| Apache Zeppelin    |\n"
   ]
  },
  {
   "cell_type": "markdown",
   "id": "620c6d83-d9f5-4d7e-84ad-1a4a9d0747c3",
   "metadata": {},
   "source": [
    "### Below are a few examples of evaluating arithmetic expressions in Python"
   ]
  },
  {
   "cell_type": "code",
   "execution_count": 2,
   "id": "1854b74f-2e5c-461f-a3fd-c0a88525dc54",
   "metadata": {},
   "outputs": [
    {
     "data": {
      "text/plain": [
       "17"
      ]
     },
     "execution_count": 2,
     "metadata": {},
     "output_type": "execute_result"
    }
   ],
   "source": [
    "# This is a simple arithmetic expression to mutiply then add integers\n",
    "(3*4)+5"
   ]
  },
  {
   "cell_type": "code",
   "execution_count": 3,
   "id": "1860be39-537d-498a-9170-fb50b4b23d88",
   "metadata": {},
   "outputs": [
    {
     "data": {
      "text/plain": [
       "3.3333333333333335"
      ]
     },
     "execution_count": 3,
     "metadata": {},
     "output_type": "execute_result"
    }
   ],
   "source": [
    "# This will convert 200 minutes to hours by diving by 60\n",
    "200/60"
   ]
  },
  {
   "cell_type": "markdown",
   "id": "50dee58d-d197-418b-a624-79b6e84b373a",
   "metadata": {},
   "source": [
    "## Author\n",
    "Raphael Nnaemelum Ogbodo"
   ]
  },
  {
   "cell_type": "code",
   "execution_count": null,
   "id": "87a8ce08-5f4e-4baf-bcb7-32cea60e99e8",
   "metadata": {},
   "outputs": [],
   "source": []
  }
 ],
 "metadata": {
  "kernelspec": {
   "display_name": "Python 3 (ipykernel)",
   "language": "python",
   "name": "python3"
  },
  "language_info": {
   "codemirror_mode": {
    "name": "ipython",
    "version": 3
   },
   "file_extension": ".py",
   "mimetype": "text/x-python",
   "name": "python",
   "nbconvert_exporter": "python",
   "pygments_lexer": "ipython3",
   "version": "3.9.7"
  }
 },
 "nbformat": 4,
 "nbformat_minor": 5
}
